{
 "cells": [
  {
   "cell_type": "markdown",
   "id": "458b0fce",
   "metadata": {},
   "source": [
    "#### 1.데이터 로드"
   ]
  },
  {
   "cell_type": "code",
   "execution_count": 1,
   "id": "e081e2e7",
   "metadata": {},
   "outputs": [],
   "source": [
    "from tensorflow import keras"
   ]
  },
  {
   "cell_type": "code",
   "execution_count": 2,
   "id": "c23a5e7a",
   "metadata": {
    "scrolled": true
   },
   "outputs": [],
   "source": [
    "(train_input, train_target), (test_input, test_target) = keras.datasets.fashion_mnist.load_data()"
   ]
  },
  {
   "cell_type": "markdown",
   "id": "a7c973b7",
   "metadata": {},
   "source": [
    "#### 2.데이터 탐색"
   ]
  },
  {
   "cell_type": "code",
   "execution_count": 3,
   "id": "23151277",
   "metadata": {},
   "outputs": [
    {
     "name": "stdout",
     "output_type": "stream",
     "text": [
      "(60000, 28, 28) (60000,)\n"
     ]
    }
   ],
   "source": [
    "# 60000개의 이미지로 구성\n",
    "# 28 x 28 픽셀\n",
    "print(train_input.shape, train_target.shape)"
   ]
  },
  {
   "cell_type": "code",
   "execution_count": 4,
   "id": "4dbd5a45",
   "metadata": {},
   "outputs": [
    {
     "name": "stdout",
     "output_type": "stream",
     "text": [
      "(10000, 28, 28) (10000,)\n"
     ]
    }
   ],
   "source": [
    "# 10000개의 이미지로 구성\n",
    "# 28 x 28 픽셀\n",
    "print(test_input.shape, test_target.shape)"
   ]
  },
  {
   "cell_type": "code",
   "execution_count": 5,
   "id": "5d6389b0",
   "metadata": {},
   "outputs": [
    {
     "data": {
      "image/png": "[encoded data removed]",
      "text/plain": [
       "<Figure size 720x720 with 10 Axes>"
      ]
     },
     "metadata": {
      "needs_background": "light"
     },
     "output_type": "display_data"
    }
   ],
   "source": [
    "import matplotlib.pyplot as plt\n",
    "\n",
    "fig, axs = plt.subplots(1, 10, figsize=(10,10))\n",
    "for i in range(10):\n",
    "    axs[i].imshow(train_input[i], cmap='gray_r')\n",
    "    axs[i].axis('off')\n",
    "plt.show()"
   ]
  },
  {
   "cell_type": "code",
   "execution_count": 6,
   "id": "1ccb9fea",
   "metadata": {},
   "outputs": [
    {
     "name": "stdout",
     "output_type": "stream",
     "text": [
      "[9, 0, 0, 3, 0, 2, 7, 2, 5, 5]\n"
     ]
    }
   ],
   "source": [
    "print([train_target[i] for i in range(10)])"
   ]
  },
  {
   "cell_type": "code",
   "execution_count": 7,
   "id": "82b0d5de",
   "metadata": {},
   "outputs": [
    {
     "name": "stdout",
     "output_type": "stream",
     "text": [
      "(array([0, 1, 2, 3, 4, 5, 6, 7, 8, 9], dtype=uint8), array([6000, 6000, 6000, 6000, 6000, 6000, 6000, 6000, 6000, 6000],\n",
      "      dtype=int64))\n"
     ]
    }
   ],
   "source": [
    "import numpy as np\n",
    "\n",
    "print(np.unique(train_target, return_counts=True))"
   ]
  },
  {
   "cell_type": "code",
   "execution_count": 8,
   "id": "e109022f",
   "metadata": {},
   "outputs": [],
   "source": [
    "# 패션 MNIST는 0~9(10개 패션 아이템 카테고리)\n",
    "\n",
    "# 티셔츠, 바지, 스웨터, 드레스, 코드, 샌달, 셔츠, 스니커즈, 가방, 앵클부츠"
   ]
  },
  {
   "cell_type": "markdown",
   "id": "4da4f579",
   "metadata": {},
   "source": [
    "#### 3.데이터 전처리"
   ]
  },
  {
   "cell_type": "code",
   "execution_count": 9,
   "id": "c2bb6a08",
   "metadata": {},
   "outputs": [],
   "source": [
    "train_scaled = train_input / 255.0\n",
    "train_scaled = train_scaled.reshape(-1, 28*28)"
   ]
  },
  {
   "cell_type": "code",
   "execution_count": 10,
   "id": "390521b0",
   "metadata": {},
   "outputs": [
    {
     "name": "stdout",
     "output_type": "stream",
     "text": [
      "(60000, 784)\n"
     ]
    }
   ],
   "source": [
    "print(train_scaled.shape)"
   ]
  },
  {
   "cell_type": "markdown",
   "id": "086dd0d1",
   "metadata": {},
   "source": [
    "#### 4.인공신경망"
   ]
  },
  {
   "cell_type": "code",
   "execution_count": 11,
   "id": "755d3d31",
   "metadata": {},
   "outputs": [],
   "source": [
    "import tensorflow as tf\n",
    "from tensorflow import keras"
   ]
  },
  {
   "cell_type": "code",
   "execution_count": 12,
   "id": "c3b8a589",
   "metadata": {},
   "outputs": [],
   "source": [
    "from sklearn.model_selection import train_test_split\n",
    "\n",
    "train_scaled, val_scaled, train_target, val_target = train_test_split(\n",
    "    train_scaled, train_target, test_size=0.2, random_state=42)"
   ]
  },
  {
   "cell_type": "code",
   "execution_count": 13,
   "id": "32b8a20a",
   "metadata": {},
   "outputs": [
    {
     "name": "stdout",
     "output_type": "stream",
     "text": [
      "(48000, 784) (48000,)\n"
     ]
    }
   ],
   "source": [
    "print(train_scaled.shape, train_target.shape)"
   ]
  },
  {
   "cell_type": "code",
   "execution_count": 14,
   "id": "f247de82",
   "metadata": {},
   "outputs": [
    {
     "name": "stdout",
     "output_type": "stream",
     "text": [
      "(12000, 784) (12000,)\n"
     ]
    }
   ],
   "source": [
    "print(val_scaled.shape, val_target.shape)"
   ]
  },
  {
   "cell_type": "code",
   "execution_count": 15,
   "id": "56345ecd",
   "metadata": {},
   "outputs": [],
   "source": [
    "# layer는 신경망 층!\n",
    "# dense => 밀집\n",
    "# : 784개 input과 10개가 모두 선으로 이루어져 있음\n",
    "dense = keras.layers.Dense(10, activation='softmax', input_shape=(784,))\n",
    "# 10: 뉴런 개수\n",
    "# activation: 뉴런의 출력에 적용할 함수\n",
    "# input_shape: 입력 크기"
   ]
  },
  {
   "cell_type": "code",
   "execution_count": 16,
   "id": "f7996c8f",
   "metadata": {},
   "outputs": [],
   "source": [
    "# Model 생성\n",
    "model = keras.Sequential(dense)\n",
    "# 그림 그려주기!!!\n",
    "# input 784 => dense 10 => softmax => output"
   ]
  },
  {
   "cell_type": "code",
   "execution_count": 17,
   "id": "a53f94f5",
   "metadata": {},
   "outputs": [],
   "source": [
    "# loss: 손실함수\n",
    "# metrics: 평가 지표\n",
    "\n",
    "# 타깃값을 원핫 인코딩으로 해서 소프트맥스에서 나온 출력값을 타깃값과 곱함\n",
    "# softmax output(a1, a2, a3, ....)\n",
    "# 정답: 원핫 인코딩(1, 0, 0, 0, 0, ...)\n",
    "# 각각 곱하면 실제 정답 아이테 말고나느 나머지는 다 0으로 변경됨\n",
    "# 정답말고 나머지의 확률은 중요하지 않음, 정답일 확률이 1에 가까워지게 하는게 중요!\n",
    "\n",
    "# sparse_categorical_crossentropy 에서 sparse는\n",
    "#   뺵뺵한 배열말고 정수값 하나만 사용한다는 뜻\n",
    "# 타깃값이 원핫인코딩이 아닌경우 spare_ 붙은 거사용\n",
    "# 타깃값이 원핫인코딩인 경우 categorical_crossentropy 사용하면 됨\n",
    "model.compile(loss='sparse_categorical_crossentropy', metrics='accuracy')"
   ]
  },
  {
   "cell_type": "code",
   "execution_count": 18,
   "id": "e894f353",
   "metadata": {},
   "outputs": [
    {
     "name": "stdout",
     "output_type": "stream",
     "text": [
      "[7 3 5 8 6 9 3 3 9 9]\n"
     ]
    }
   ],
   "source": [
    "print(train_target[:10])"
   ]
  },
  {
   "cell_type": "code",
   "execution_count": 19,
   "id": "3fd4c8c8",
   "metadata": {},
   "outputs": [
    {
     "name": "stdout",
     "output_type": "stream",
     "text": [
      "Epoch 1/5\n",
      "1500/1500 [==============================] - 1s 711us/step - loss: 0.6013 - accuracy: 0.7974\n",
      "Epoch 2/5\n",
      "1500/1500 [==============================] - 1s 687us/step - loss: 0.4787 - accuracy: 0.8387\n",
      "Epoch 3/5\n",
      "1500/1500 [==============================] - 1s 692us/step - loss: 0.4554 - accuracy: 0.8485\n",
      "Epoch 4/5\n",
      "1500/1500 [==============================] - 1s 702us/step - loss: 0.4444 - accuracy: 0.8530\n",
      "Epoch 5/5\n",
      "1500/1500 [==============================] - 1s 694us/step - loss: 0.4375 - accuracy: 0.8553\n"
     ]
    },
    {
     "data": {
      "text/plain": [
       "<keras.callbacks.History at 0x18baee5e4f0>"
      ]
     },
     "execution_count": 19,
     "metadata": {},
     "output_type": "execute_result"
    }
   ],
   "source": [
    "# 입력, 정답, 학습횟수!(epochs)\n",
    "model.fit(train_scaled, train_target, epochs=5)"
   ]
  },
  {
   "cell_type": "code",
   "execution_count": 20,
   "id": "7626738d",
   "metadata": {
    "scrolled": true
   },
   "outputs": [
    {
     "name": "stdout",
     "output_type": "stream",
     "text": [
      "375/375 [==============================] - 0s 666us/step - loss: 0.4666 - accuracy: 0.8406\n"
     ]
    },
    {
     "data": {
      "text/plain": [
       "[0.4666222631931305, 0.840583324432373]"
      ]
     },
     "execution_count": 20,
     "metadata": {},
     "output_type": "execute_result"
    }
   ],
   "source": [
    "model.evaluate(val_scaled, val_target)"
   ]
  },
  {
   "cell_type": "markdown",
   "id": "32540800",
   "metadata": {},
   "source": [
    "#### 5.심층신경망 만들기\n",
    "\n",
    "> 활성화 함수 사용 이유:\n",
    "> 신경망 층의 선형 방정식의 계산 값에 적용하는 함수\n",
    "\n",
    "- 출력층에 적용하는 활성화 함수는 제한적\n",
    "- 분류문제에서는 클래스에 대한 확률을 출력하기 위해 활성화 함수 사용\n",
    "- 회귀의 출력은 어떤 임의의 숫자임으로 활성화 함수 적용 필요 X => 선형 방정식 계산 그대로 출력"
   ]
  },
  {
   "cell_type": "markdown",
   "id": "223e3e60",
   "metadata": {},
   "source": [
    "#### 활성화 함수 사용하는 이유는?\n",
    "\n",
    "2개의 선형방정식이 있음  \n",
    "$a * 4 + 2 = b$  \n",
    "$b * 3 - 5 = c$  \n",
    "$a * 12 + 1 = c$\n",
    "\n",
    "> 하나의 식으로 변경 가능, 층을 추가해도 아무 의미가 없음\n",
    "\n",
    "은닉층에서 선형적인 산술 계산만 수행한다면 수행 역할이 없는 셈  \n",
    "=> 선형계산을 적당하게 비선형적으로 비틀어주어야 함  \n",
    "$a * 4 + 2 = b$  \n",
    "$log(b) = k$  \n",
    "$k * 3 - 5 = c$  \n"
   ]
  },
  {
   "cell_type": "code",
   "execution_count": 21,
   "id": "0666dbd8",
   "metadata": {},
   "outputs": [],
   "source": [
    "# 시그모이드 함수: 가장 기본적인 함수\n",
    "# - 출력 z값을 0~1사이의 값으로 압축\n",
    "dense1 = keras.layers.Dense(100, activation='sigmoid', input_shape=(784,))\n",
    "dense2 = keras.layers.Dense(10, activation='softmax')"
   ]
  },
  {
   "cell_type": "code",
   "execution_count": 22,
   "id": "0f7dd7fa",
   "metadata": {},
   "outputs": [],
   "source": [
    "model = keras.Sequential([dense1, dense2])"
   ]
  },
  {
   "cell_type": "code",
   "execution_count": 23,
   "id": "dedb3438",
   "metadata": {
    "scrolled": true
   },
   "outputs": [
    {
     "name": "stdout",
     "output_type": "stream",
     "text": [
      "Model: \"sequential_1\"\n",
      "_________________________________________________________________\n",
      " Layer (type)                Output Shape              Param #   \n",
      "=================================================================\n",
      " dense_1 (Dense)             (None, 100)               78500     \n",
      "                                                                 \n",
      " dense_2 (Dense)             (None, 10)                1010      \n",
      "                                                                 \n",
      "=================================================================\n",
      "Total params: 79,510\n",
      "Trainable params: 79,510\n",
      "Non-trainable params: 0\n",
      "_________________________________________________________________\n"
     ]
    }
   ],
   "source": [
    "# 뉴런마다 절편 1개씩 존재\n",
    "# 784 * 100 + 100 = 78500\n",
    "\n",
    "# (None, 100)\n",
    "# None는 샘플의 개수, 샘플의 개수 아직 정의 안됨\n",
    "# mini batch 활용, keras는 기본 미니 배치는 32\n",
    "model.summary()"
   ]
  },
  {
   "cell_type": "markdown",
   "id": "31dd5db0",
   "metadata": {},
   "source": [
    "#### 6.층울 추가하는 다른 방법"
   ]
  },
  {
   "cell_type": "code",
   "execution_count": 24,
   "id": "7bc062c9",
   "metadata": {},
   "outputs": [],
   "source": [
    "model = keras.Sequential([\n",
    "    keras.layers.Dense(100, activation='sigmoid', input_shape=(784,), name='hidden'),\n",
    "    keras.layers.Dense(10, activation='softmax', name='output')\n",
    "], name='패션 MNIST 모델')"
   ]
  },
  {
   "cell_type": "code",
   "execution_count": 25,
   "id": "03fb9fe8",
   "metadata": {},
   "outputs": [
    {
     "name": "stdout",
     "output_type": "stream",
     "text": [
      "Model: \"패션 MNIST 모델\"\n",
      "_________________________________________________________________\n",
      " Layer (type)                Output Shape              Param #   \n",
      "=================================================================\n",
      " hidden (Dense)              (None, 100)               78500     \n",
      "                                                                 \n",
      " output (Dense)              (None, 10)                1010      \n",
      "                                                                 \n",
      "=================================================================\n",
      "Total params: 79,510\n",
      "Trainable params: 79,510\n",
      "Non-trainable params: 0\n",
      "_________________________________________________________________\n"
     ]
    }
   ],
   "source": [
    "model.summary()"
   ]
  },
  {
   "cell_type": "code",
   "execution_count": 26,
   "id": "03a46452",
   "metadata": {},
   "outputs": [],
   "source": [
    "# 가장 많이 사용!\n",
    "model = keras.Sequential()\n",
    "model.add(keras.layers.Dense(100, activation='sigmoid', input_shape=(784,)))\n",
    "model.add(keras.layers.Dense(10, activation='softmax'))"
   ]
  },
  {
   "cell_type": "code",
   "execution_count": 27,
   "id": "7dfe3fc2",
   "metadata": {
    "scrolled": true
   },
   "outputs": [
    {
     "name": "stdout",
     "output_type": "stream",
     "text": [
      "Model: \"sequential_2\"\n",
      "_________________________________________________________________\n",
      " Layer (type)                Output Shape              Param #   \n",
      "=================================================================\n",
      " dense_3 (Dense)             (None, 100)               78500     \n",
      "                                                                 \n",
      " dense_4 (Dense)             (None, 10)                1010      \n",
      "                                                                 \n",
      "=================================================================\n",
      "Total params: 79,510\n",
      "Trainable params: 79,510\n",
      "Non-trainable params: 0\n",
      "_________________________________________________________________\n"
     ]
    }
   ],
   "source": [
    "model.summary()"
   ]
  },
  {
   "cell_type": "code",
   "execution_count": 28,
   "id": "571fbb70",
   "metadata": {
    "scrolled": true
   },
   "outputs": [
    {
     "name": "stdout",
     "output_type": "stream",
     "text": [
      "Epoch 1/5\n",
      "1500/1500 [==============================] - 2s 952us/step - loss: 0.5650 - accuracy: 0.8074\n",
      "Epoch 2/5\n",
      "1500/1500 [==============================] - 1s 935us/step - loss: 0.4112 - accuracy: 0.8508\n",
      "Epoch 3/5\n",
      "1500/1500 [==============================] - 1s 938us/step - loss: 0.3748 - accuracy: 0.8646\n",
      "Epoch 4/5\n",
      "1500/1500 [==============================] - 1s 922us/step - loss: 0.3514 - accuracy: 0.8741\n",
      "Epoch 5/5\n",
      "1500/1500 [==============================] - 1s 926us/step - loss: 0.3349 - accuracy: 0.8790\n"
     ]
    },
    {
     "data": {
      "text/plain": [
       "<keras.callbacks.History at 0x18bb14c7700>"
      ]
     },
     "execution_count": 28,
     "metadata": {},
     "output_type": "execute_result"
    }
   ],
   "source": [
    "model.compile(loss='sparse_categorical_crossentropy', metrics='accuracy')\n",
    "\n",
    "model.fit(train_scaled, train_target, epochs=5)"
   ]
  },
  {
   "cell_type": "code",
   "execution_count": 29,
   "id": "960f56f2",
   "metadata": {},
   "outputs": [
    {
     "name": "stdout",
     "output_type": "stream",
     "text": [
      "375/375 [==============================] - 0s 758us/step - loss: 0.3520 - accuracy: 0.8741\n"
     ]
    },
    {
     "data": {
      "text/plain": [
       "[0.35203930735588074, 0.8740833401679993]"
      ]
     },
     "execution_count": 29,
     "metadata": {},
     "output_type": "execute_result"
    }
   ],
   "source": [
    "model.evaluate(val_scaled, val_target)"
   ]
  },
  {
   "cell_type": "markdown",
   "id": "b8d5f53e",
   "metadata": {},
   "source": [
    "#### 7.Relu 활성화 함수\n",
    "- 시그모이드 함수는 단점이 존재\n",
    "- 오른쪽과 왼쪽 끝으로 갈수록 그래프가 누워있음, 올바른 출력을 만드는데 신속하게 대응 못함\n",
    "- 특히 층이 더 많으면 그 효과가 누적되어 학습이 더 어려움\n",
    "\n",
    "> 시그모이드 대체로 Relu\n",
    "\n",
    "- Relu는 음수일때는 0, 양수일 떄는 활성화 함수가 없는 것 마냥 그대로 통과"
   ]
  },
  {
   "cell_type": "code",
   "execution_count": 30,
   "id": "99736350",
   "metadata": {},
   "outputs": [],
   "source": [
    "model = keras.Sequential()\n",
    "model.add(keras.layers.Flatten(input_shape=(28, 28)))\n",
    "model.add(keras.layers.Dense(100, activation='relu'))\n",
    "model.add(keras.layers.Dense(10, activation='softmax'))"
   ]
  },
  {
   "cell_type": "code",
   "execution_count": 31,
   "id": "aae5bb2c",
   "metadata": {},
   "outputs": [
    {
     "name": "stdout",
     "output_type": "stream",
     "text": [
      "Model: \"sequential_3\"\n",
      "_________________________________________________________________\n",
      " Layer (type)                Output Shape              Param #   \n",
      "=================================================================\n",
      " flatten (Flatten)           (None, 784)               0         \n",
      "                                                                 \n",
      " dense_5 (Dense)             (None, 100)               78500     \n",
      "                                                                 \n",
      " dense_6 (Dense)             (None, 10)                1010      \n",
      "                                                                 \n",
      "=================================================================\n",
      "Total params: 79,510\n",
      "Trainable params: 79,510\n",
      "Non-trainable params: 0\n",
      "_________________________________________________________________\n"
     ]
    }
   ],
   "source": [
    "model.summary()"
   ]
  },
  {
   "cell_type": "code",
   "execution_count": 32,
   "id": "d1d592e4",
   "metadata": {},
   "outputs": [],
   "source": [
    "(train_input, train_target), (test_input, test_target) = keras.datasets.fashion_mnist.load_data()\n",
    "\n",
    "train_scaled = train_input / 255.0\n",
    "\n",
    "train_scaled, val_scaled, train_target, val_target = train_test_split(\n",
    "    train_scaled, train_target, test_size=0.2, random_state=42)"
   ]
  },
  {
   "cell_type": "code",
   "execution_count": 33,
   "id": "05adf6c6",
   "metadata": {},
   "outputs": [
    {
     "name": "stdout",
     "output_type": "stream",
     "text": [
      "Epoch 1/5\n",
      "1500/1500 [==============================] - 2s 919us/step - loss: 0.5348 - accuracy: 0.8099\n",
      "Epoch 2/5\n",
      "1500/1500 [==============================] - 1s 913us/step - loss: 0.3950 - accuracy: 0.8591\n",
      "Epoch 3/5\n",
      "1500/1500 [==============================] - 1s 909us/step - loss: 0.3545 - accuracy: 0.8713\n",
      "Epoch 4/5\n",
      "1500/1500 [==============================] - 1s 948us/step - loss: 0.3363 - accuracy: 0.8792\n",
      "Epoch 5/5\n",
      "1500/1500 [==============================] - 1s 941us/step - loss: 0.3200 - accuracy: 0.8863\n"
     ]
    },
    {
     "data": {
      "text/plain": [
       "<keras.callbacks.History at 0x18baf164c40>"
      ]
     },
     "execution_count": 33,
     "metadata": {},
     "output_type": "execute_result"
    }
   ],
   "source": [
    "model.compile(loss='sparse_categorical_crossentropy', metrics='accuracy')\n",
    "\n",
    "model.fit(train_scaled, train_target, epochs=5)"
   ]
  },
  {
   "cell_type": "code",
   "execution_count": 34,
   "id": "28f9840a",
   "metadata": {
    "scrolled": true
   },
   "outputs": [
    {
     "name": "stdout",
     "output_type": "stream",
     "text": [
      "375/375 [==============================] - 0s 749us/step - loss: 0.3592 - accuracy: 0.8763\n"
     ]
    },
    {
     "data": {
      "text/plain": [
       "[0.35924288630485535, 0.8763333559036255]"
      ]
     },
     "execution_count": 34,
     "metadata": {},
     "output_type": "execute_result"
    }
   ],
   "source": [
    "model.evaluate(val_scaled, val_target)"
   ]
  },
  {
   "cell_type": "markdown",
   "id": "62373957",
   "metadata": {},
   "source": [
    "#### 8.옵티마이저\n",
    "\n",
    "- 경사하강법 알고리즘 => 옵티마이저\n",
    "- Keras는 기본적으로 RMSprop\n",
    "- 모델이 최적점에 가까워지면 학습률을 낮출 수 있음(적응적 학습률)\n",
    "\n",
    "> 하이퍼파라미터 튜닝!! 노드 수부터!\n",
    "\n",
    "1.loss function은 얼마나 틀리는지(loss) 계산\n",
    "2.loss function의 최소값을 찾는 것을 학습의 목표\n",
    "3.최소값을 찾아가는 것을 최적화(optimizer)\n",
    "\n",
    "산에서 내려오는거 생각\n",
    "산에서 내려오는게 목표\n",
    "보폭이 learning_late\n",
    "epoch는 산을 내려오는 행위를 몇번 반복하면서 공부할 것인지\n",
    "\n"
   ]
  },
  {
   "cell_type": "code",
   "execution_count": 35,
   "id": "05942fba",
   "metadata": {},
   "outputs": [],
   "source": [
    "model.compile(optimizer='sgd', loss='sparse_categorical_crossentropy', metrics='accuracy')"
   ]
  },
  {
   "cell_type": "code",
   "execution_count": 36,
   "id": "a637651d",
   "metadata": {},
   "outputs": [],
   "source": [
    "sgd = keras.optimizers.SGD()\n",
    "model.compile(optimizer=sgd, loss='sparse_categorical_crossentropy', metrics='accuracy')"
   ]
  },
  {
   "cell_type": "code",
   "execution_count": 37,
   "id": "621618b1",
   "metadata": {},
   "outputs": [],
   "source": [
    "sgd = keras.optimizers.SGD(learning_rate=0.1)"
   ]
  },
  {
   "cell_type": "code",
   "execution_count": 38,
   "id": "64e039fd",
   "metadata": {},
   "outputs": [],
   "source": [
    "rmsprop = keras.optimizers.RMSprop()\n",
    "model.compile(optimizer=rmsprop, loss='sparse_categorical_crossentropy', metrics='accuracy')"
   ]
  },
  {
   "cell_type": "code",
   "execution_count": 39,
   "id": "cdb88982",
   "metadata": {},
   "outputs": [],
   "source": [
    "model = keras.Sequential()\n",
    "model.add(keras.layers.Flatten(input_shape=(28, 28)))\n",
    "model.add(keras.layers.Dense(100, activation='relu'))\n",
    "model.add(keras.layers.Dense(10, activation='softmax'))"
   ]
  },
  {
   "cell_type": "code",
   "execution_count": 40,
   "id": "7c9ba916",
   "metadata": {},
   "outputs": [
    {
     "name": "stdout",
     "output_type": "stream",
     "text": [
      "Epoch 1/5\n",
      "1500/1500 [==============================] - 2s 887us/step - loss: 0.5254 - accuracy: 0.8159\n",
      "Epoch 2/5\n",
      "1500/1500 [==============================] - 1s 869us/step - loss: 0.3944 - accuracy: 0.8574\n",
      "Epoch 3/5\n",
      "1500/1500 [==============================] - 1s 849us/step - loss: 0.3532 - accuracy: 0.8700\n",
      "Epoch 4/5\n",
      "1500/1500 [==============================] - 1s 903us/step - loss: 0.3241 - accuracy: 0.8805\n",
      "Epoch 5/5\n",
      "1500/1500 [==============================] - 1s 927us/step - loss: 0.3063 - accuracy: 0.8871\n"
     ]
    },
    {
     "data": {
      "text/plain": [
       "<keras.callbacks.History at 0x18b9bc3cee0>"
      ]
     },
     "execution_count": 40,
     "metadata": {},
     "output_type": "execute_result"
    }
   ],
   "source": [
    "model.compile(optimizer='adam', loss='sparse_categorical_crossentropy', metrics='accuracy')\n",
    "\n",
    "model.fit(train_scaled, train_target, epochs=5)"
   ]
  },
  {
   "cell_type": "code",
   "execution_count": 41,
   "id": "22117c2c",
   "metadata": {},
   "outputs": [
    {
     "name": "stdout",
     "output_type": "stream",
     "text": [
      "375/375 [==============================] - 0s 698us/step - loss: 0.3397 - accuracy: 0.8738\n"
     ]
    },
    {
     "data": {
      "text/plain": [
       "[0.33968067169189453, 0.8738333582878113]"
      ]
     },
     "execution_count": 41,
     "metadata": {},
     "output_type": "execute_result"
    }
   ],
   "source": [
    "model.evaluate(val_scaled, val_target)"
   ]
  },
  {
   "cell_type": "markdown",
   "id": "96d666b3",
   "metadata": {},
   "source": [
    "#### 9.손실 곡선"
   ]
  },
  {
   "cell_type": "code",
   "execution_count": 42,
   "id": "bf00be0b",
   "metadata": {},
   "outputs": [],
   "source": [
    "# 모델을 함수로 생성해서 사용!\n",
    "def model_fn(a_layer=None):\n",
    "    model = keras.Sequential()\n",
    "    model.add(keras.layers.Flatten(input_shape=(28, 28)))\n",
    "    model.add(keras.layers.Dense(100, activation='relu'))\n",
    "    if a_layer:\n",
    "        model.add(a_layer)\n",
    "    model.add(keras.layers.Dense(10, activation='softmax'))\n",
    "    return model"
   ]
  },
  {
   "cell_type": "code",
   "execution_count": 43,
   "id": "063e5b88",
   "metadata": {},
   "outputs": [
    {
     "name": "stdout",
     "output_type": "stream",
     "text": [
      "Model: \"sequential_5\"\n",
      "_________________________________________________________________\n",
      " Layer (type)                Output Shape              Param #   \n",
      "=================================================================\n",
      " flatten_2 (Flatten)         (None, 784)               0         \n",
      "                                                                 \n",
      " dense_9 (Dense)             (None, 100)               78500     \n",
      "                                                                 \n",
      " dense_10 (Dense)            (None, 10)                1010      \n",
      "                                                                 \n",
      "=================================================================\n",
      "Total params: 79,510\n",
      "Trainable params: 79,510\n",
      "Non-trainable params: 0\n",
      "_________________________________________________________________\n"
     ]
    }
   ],
   "source": [
    "model = model_fn()\n",
    "\n",
    "model.summary()"
   ]
  },
  {
   "cell_type": "code",
   "execution_count": 44,
   "id": "5c6e5ef2",
   "metadata": {},
   "outputs": [],
   "source": [
    "# History 객체: 훈련과정에서 계산한 지표, 즉 손실과 정확도 값이 저장\n",
    "model.compile(loss='sparse_categorical_crossentropy', metrics='accuracy')\n",
    "\n",
    "history = model.fit(train_scaled, train_target, epochs=5, verbose=0)"
   ]
  },
  {
   "cell_type": "code",
   "execution_count": 45,
   "id": "3d4d9fe9",
   "metadata": {},
   "outputs": [
    {
     "name": "stdout",
     "output_type": "stream",
     "text": [
      "dict_keys(['loss', 'accuracy'])\n"
     ]
    }
   ],
   "source": [
    "# History 객체에 \"loss\"와 \"accuracy\"가 리스트로 저장되어 있음\n",
    "print(history.history.keys())"
   ]
  },
  {
   "cell_type": "code",
   "execution_count": 46,
   "id": "e544dcb7",
   "metadata": {},
   "outputs": [
    {
     "data": {
      "image/png": "[encoded data removed]",
      "text/plain": [
       "<Figure size 432x288 with 1 Axes>"
      ]
     },
     "metadata": {
      "needs_background": "light"
     },
     "output_type": "display_data"
    }
   ],
   "source": [
    "# epoch가 증가할수록 loss가 떨어짐\n",
    "import matplotlib.pyplot as plt\n",
    "\n",
    "plt.plot(history.history['loss'])\n",
    "plt.xlabel('epoch')\n",
    "plt.ylabel('loss')\n",
    "plt.show()"
   ]
  },
  {
   "cell_type": "code",
   "execution_count": 47,
   "id": "b5b13c5e",
   "metadata": {},
   "outputs": [
    {
     "data": {
      "image/png": "[encoded data removed]",
      "text/plain": [
       "<Figure size 432x288 with 1 Axes>"
      ]
     },
     "metadata": {
      "needs_background": "light"
     },
     "output_type": "display_data"
    }
   ],
   "source": [
    "# epoch가 증가할수록 정확도 향상됨\n",
    "plt.plot(history.history['accuracy'])\n",
    "plt.xlabel('epoch')\n",
    "plt.ylabel('accuracy')\n",
    "plt.show()"
   ]
  },
  {
   "cell_type": "code",
   "execution_count": 48,
   "id": "3671f0aa",
   "metadata": {},
   "outputs": [],
   "source": [
    "model = model_fn()\n",
    "model.compile(loss='sparse_categorical_crossentropy', metrics='accuracy')\n",
    "\n",
    "history = model.fit(train_scaled, train_target, epochs=20, verbose=0)"
   ]
  },
  {
   "cell_type": "code",
   "execution_count": 49,
   "id": "8dc8f985",
   "metadata": {},
   "outputs": [
    {
     "data": {
      "image/png": "[encoded data removed]",
      "text/plain": [
       "<Figure size 432x288 with 1 Axes>"
      ]
     },
     "metadata": {
      "needs_background": "light"
     },
     "output_type": "display_data"
    }
   ],
   "source": [
    "# epoch를 20으로 늘렸더니 loss가 더 떨어짐\n",
    "plt.plot(history.history['loss'])\n",
    "plt.xlabel('epoch')\n",
    "plt.ylabel('loss')\n",
    "plt.show()"
   ]
  },
  {
   "cell_type": "markdown",
   "id": "06f3492e",
   "metadata": {},
   "source": [
    "#### 10.검증 손실\n",
    "\n",
    "- 인공신경망 모델이 최적화하는 대상은 정확도가 아니라 손실함수!\n",
    "- 손실감소에 비례하여 정확도가 높아지지 않는 경우도 있음\n",
    "- 따라서, 모델이 잘 훈련되었는지 판단하려면 정확도보다는 손실함수 값을 확인"
   ]
  },
  {
   "cell_type": "code",
   "execution_count": 50,
   "id": "31a84cdc",
   "metadata": {},
   "outputs": [],
   "source": [
    "# epoch와 과소/과대 적합 확인을 위해 validation 사용\n",
    "model = model_fn()\n",
    "model.compile(loss='sparse_categorical_crossentropy', metrics='accuracy')\n",
    "\n",
    "# validation 추가\n",
    "history = model.fit(train_scaled, train_target, epochs=20, verbose=0, \n",
    "                    validation_data=(val_scaled, val_target))"
   ]
  },
  {
   "cell_type": "code",
   "execution_count": 51,
   "id": "7d0aa24f",
   "metadata": {},
   "outputs": [
    {
     "name": "stdout",
     "output_type": "stream",
     "text": [
      "dict_keys(['loss', 'accuracy', 'val_loss', 'val_accuracy'])\n"
     ]
    }
   ],
   "source": [
    "print(history.history.keys())"
   ]
  },
  {
   "cell_type": "code",
   "execution_count": 52,
   "id": "33b8b765",
   "metadata": {},
   "outputs": [
    {
     "data": {
      "image/png": "[encoded data removed]",
      "text/plain": [
       "<Figure size 432x288 with 1 Axes>"
      ]
     },
     "metadata": {
      "needs_background": "light"
     },
     "output_type": "display_data"
    }
   ],
   "source": [
    "# 검증손실이 epoch 2번부터 증가함\n",
    "# 학습손실은 꾸준히 감소(과대적합)\n",
    "plt.plot(history.history['loss'])\n",
    "plt.plot(history.history['val_loss'])\n",
    "plt.xlabel('epoch')\n",
    "plt.ylabel('loss')\n",
    "plt.legend(['train', 'val'])\n",
    "plt.show()"
   ]
  },
  {
   "cell_type": "code",
   "execution_count": 59,
   "id": "8d935ae0",
   "metadata": {},
   "outputs": [],
   "source": [
    "# 옵티마이저 \"adam\"으로 교체, 적응형 학습률을 사용해서 epoch가 진행되면서 학습률의 크기 조정 가능\n",
    "model = model_fn()\n",
    "model.compile(optimizer='adam', loss='sparse_categorical_crossentropy', \n",
    "              metrics='accuracy')\n",
    "\n",
    "history = model.fit(train_scaled, train_target, epochs=20, verbose=0, \n",
    "                    validation_data=(val_scaled, val_target))"
   ]
  },
  {
   "cell_type": "code",
   "execution_count": 54,
   "id": "5d0c2fe1",
   "metadata": {
    "scrolled": true
   },
   "outputs": [
    {
     "data": {
      "image/png": "[encoded data removed]",
      "text/plain": [
       "<Figure size 432x288 with 1 Axes>"
      ]
     },
     "metadata": {
      "needs_background": "light"
     },
     "output_type": "display_data"
    }
   ],
   "source": [
    "# 과대적합이 많이 줄어듬\n",
    "plt.plot(history.history['loss'])\n",
    "plt.plot(history.history['val_loss'])\n",
    "plt.xlabel('epoch')\n",
    "plt.ylabel('loss')\n",
    "plt.legend(['train', 'val'])\n",
    "plt.show()"
   ]
  },
  {
   "cell_type": "markdown",
   "id": "14cdecce",
   "metadata": {},
   "source": [
    "#### 11.드롭아웃\n",
    "\n",
    "- 제프리 힌튼이 소개\n",
    "- 훈련 과정에서 층에 있는 일부 뉴런을 랜덤하게 꺼서(즉 뉴런의 출력을 0으로 만들어) 과대적합을 막음\n",
    "- train만 사용, valid와 test에는 드롭아웃 사용하면 안됨\n",
    "- Tensorflow와 Keras는 똑똑하게 valid와 test에서 드롭아웃 적용하지 않음\n",
    "\n",
    "> 이전 층의 일부 뉴런이 랜덤하게 꺼지면 특정 뉴런에 과대하게 의존하는 것을 줄일 수 있고 모든 입력에 대해 주의를 기울여야 함(더 안정적인 예측을 만들 수 있음)"
   ]
  },
  {
   "cell_type": "code",
   "execution_count": 60,
   "id": "1f17af9d",
   "metadata": {},
   "outputs": [
    {
     "name": "stdout",
     "output_type": "stream",
     "text": [
      "Model: \"sequential_11\"\n",
      "_________________________________________________________________\n",
      " Layer (type)                Output Shape              Param #   \n",
      "=================================================================\n",
      " flatten_8 (Flatten)         (None, 784)               0         \n",
      "                                                                 \n",
      " dense_21 (Dense)            (None, 100)               78500     \n",
      "                                                                 \n",
      " dropout_1 (Dropout)         (None, 100)               0         \n",
      "                                                                 \n",
      " dense_22 (Dense)            (None, 10)                1010      \n",
      "                                                                 \n",
      "=================================================================\n",
      "Total params: 79,510\n",
      "Trainable params: 79,510\n",
      "Non-trainable params: 0\n",
      "_________________________________________________________________\n"
     ]
    }
   ],
   "source": [
    "# 드롭아웃을 사용해서 입력과 출력의 크기는 동일\n",
    "# 일부 뉴런의 출력을 0으로 만들지만 전체 출력의 배열의 크기를 바꾸지는 않음\n",
    "# 0.3은 rate 이전 층에서 30%의 노드들을 무작위로 0으로 만듬\n",
    "model = model_fn(keras.layers.Dropout(0.3))\n",
    "\n",
    "model.summary()"
   ]
  },
  {
   "cell_type": "code",
   "execution_count": 61,
   "id": "27cd4fac",
   "metadata": {},
   "outputs": [],
   "source": [
    "model.compile(optimizer='adam', loss='sparse_categorical_crossentropy', \n",
    "              metrics='accuracy')\n",
    "\n",
    "history = model.fit(train_scaled, train_target, epochs=20, verbose=0, \n",
    "                    validation_data=(val_scaled, val_target))"
   ]
  },
  {
   "cell_type": "code",
   "execution_count": 62,
   "id": "73ec1089",
   "metadata": {},
   "outputs": [
    {
     "data": {
      "image/png": "[encoded data removed]",
      "text/plain": [
       "<Figure size 432x288 with 1 Axes>"
      ]
     },
     "metadata": {
      "needs_background": "light"
     },
     "output_type": "display_data"
    }
   ],
   "source": [
    "# epoch 10번부터 과대적합되기 때문에\n",
    "# epoch를 10으로 변경하고 다시 학습!\n",
    "plt.plot(history.history['loss'])\n",
    "plt.plot(history.history['val_loss'])\n",
    "plt.xlabel('epoch')\n",
    "plt.ylabel('loss')\n",
    "plt.legend(['train', 'val'])\n",
    "plt.show()"
   ]
  },
  {
   "cell_type": "markdown",
   "id": "9c6bd300",
   "metadata": {},
   "source": [
    "#### 12.모델 저장과 복원"
   ]
  },
  {
   "cell_type": "code",
   "execution_count": 63,
   "id": "bcfcec05",
   "metadata": {},
   "outputs": [],
   "source": [
    "model = model_fn(keras.layers.Dropout(0.3))\n",
    "model.compile(optimizer='adam', loss='sparse_categorical_crossentropy', \n",
    "              metrics='accuracy')\n",
    "\n",
    "history = model.fit(train_scaled, train_target, epochs=10, verbose=0, \n",
    "                    validation_data=(val_scaled, val_target))"
   ]
  },
  {
   "cell_type": "code",
   "execution_count": 64,
   "id": "f0a949a5",
   "metadata": {},
   "outputs": [],
   "source": [
    "# weight만 저장\n",
    "model.save_weights('model-weights.h5')"
   ]
  },
  {
   "cell_type": "code",
   "execution_count": 65,
   "id": "76c9cc3e",
   "metadata": {},
   "outputs": [],
   "source": [
    "# 모델 구조 + weight\n",
    "model.save('model-whole.h5')"
   ]
  },
  {
   "cell_type": "code",
   "execution_count": 67,
   "id": "eb5f0ab5",
   "metadata": {},
   "outputs": [],
   "source": [
    "model = model_fn(keras.layers.Dropout(0.3))\n",
    "\n",
    "# load_weights를 사용하기 위해서는 save_weights()를 사용해서 저장했던 모델과 정확히 같은 구조를 가져야 함\n",
    "model.load_weights('model-weights.h5')"
   ]
  },
  {
   "cell_type": "code",
   "execution_count": 68,
   "id": "03c2a619",
   "metadata": {},
   "outputs": [
    {
     "name": "stdout",
     "output_type": "stream",
     "text": [
      "0.8805\n"
     ]
    }
   ],
   "source": [
    "import numpy as np\n",
    "\n",
    "val_labels = np.argmax(model.predict(val_scaled), axis=-1)\n",
    "print(np.mean(val_labels == val_target))"
   ]
  },
  {
   "cell_type": "code",
   "execution_count": 69,
   "id": "0bef1fef",
   "metadata": {},
   "outputs": [
    {
     "name": "stdout",
     "output_type": "stream",
     "text": [
      "375/375 [==============================] - 0s 798us/step - loss: 0.3270 - accuracy: 0.8805\n"
     ]
    },
    {
     "data": {
      "text/plain": [
       "[0.3270442485809326, 0.8805000185966492]"
      ]
     },
     "execution_count": 69,
     "metadata": {},
     "output_type": "execute_result"
    }
   ],
   "source": [
    "model = keras.models.load_model('model-whole.h5')\n",
    "\n",
    "model.evaluate(val_scaled, val_target)"
   ]
  },
  {
   "cell_type": "markdown",
   "id": "1cc0d0aa",
   "metadata": {},
   "source": [
    "#### 13.콜백\n",
    "- 훈련과정 중간에 어떤작업을 수행할 수 있는 객체\n",
    "- ModelCheckPoint는 epoch마다 모델 저장\n",
    "- save_best_only는 가장 낮은 검증 점수를 만드는 모델을 거장"
   ]
  },
  {
   "cell_type": "code",
   "execution_count": 70,
   "id": "398697f1",
   "metadata": {},
   "outputs": [
    {
     "data": {
      "text/plain": [
       "<keras.callbacks.History at 0x18b99cd4250>"
      ]
     },
     "execution_count": 70,
     "metadata": {},
     "output_type": "execute_result"
    }
   ],
   "source": [
    "model = model_fn(keras.layers.Dropout(0.3))\n",
    "model.compile(optimizer='adam', loss='sparse_categorical_crossentropy', \n",
    "              metrics='accuracy')\n",
    "\n",
    "checkpoint_cb = keras.callbacks.ModelCheckpoint('best-model.h5', \n",
    "                                                save_best_only=True)\n",
    "\n",
    "model.fit(train_scaled, train_target, epochs=20, verbose=0, \n",
    "          validation_data=(val_scaled, val_target),\n",
    "          callbacks=[checkpoint_cb])"
   ]
  },
  {
   "cell_type": "code",
   "execution_count": 71,
   "id": "a6661f3e",
   "metadata": {},
   "outputs": [
    {
     "name": "stdout",
     "output_type": "stream",
     "text": [
      "375/375 [==============================] - 0s 754us/step - loss: 0.3159 - accuracy: 0.8884\n"
     ]
    },
    {
     "data": {
      "text/plain": [
       "[0.31591862440109253, 0.8884166479110718]"
      ]
     },
     "execution_count": 71,
     "metadata": {},
     "output_type": "execute_result"
    }
   ],
   "source": [
    "model = keras.models.load_model('best-model.h5')\n",
    "\n",
    "model.evaluate(val_scaled, val_target)"
   ]
  },
  {
   "cell_type": "markdown",
   "id": "97877cd1",
   "metadata": {},
   "source": [
    "##### 검증점수가 상승하면 과대적합이기 때문에 훈련 더 할 필요 없음\n",
    "  - 훈련 중지 필요!!\n",
    "\n",
    "##### early stoping(조기 종료)\n",
    "- epoch 횟수를 제한(과대적합 막아줌)\n",
    "- patience=2 2번 연속 검증점수가 향상되지 않으면 훈련 중지\n",
    "- restore_best_weights는 가장 낮은 검증 손실을 낸 모델 파라미터로 되돌림\n",
    "\n",
    "> early stoping과 ModelCheckPoint를 함께 사용하면 가증 낮은 검증 손실의 모델을 파일에 저장하고 검증 손실이 다시 상승할 경우 훈련 중지 가능, 훈련 중지 후 모델의 파라미터를 최상의 파라미터로 되돌림"
   ]
  },
  {
   "cell_type": "code",
   "execution_count": 76,
   "id": "0c7b15e3",
   "metadata": {},
   "outputs": [],
   "source": [
    "model = model_fn(keras.layers.Dropout(0.3))\n",
    "model.compile(optimizer='adam', loss='sparse_categorical_crossentropy', \n",
    "              metrics='accuracy')\n",
    "\n",
    "checkpoint_cb = keras.callbacks.ModelCheckpoint('best-model.h5', \n",
    "                                                save_best_only=True)\n",
    "early_stopping_cb = keras.callbacks.EarlyStopping(patience=2,\n",
    "                                                  restore_best_weights=True)\n",
    "\n",
    "history = model.fit(train_scaled, train_target, epochs=20, verbose=0, \n",
    "                    validation_data=(val_scaled, val_target),\n",
    "                    callbacks=[checkpoint_cb, early_stopping_cb])"
   ]
  },
  {
   "cell_type": "code",
   "execution_count": 73,
   "id": "6c5bc08c",
   "metadata": {},
   "outputs": [
    {
     "name": "stdout",
     "output_type": "stream",
     "text": [
      "12\n"
     ]
    }
   ],
   "source": [
    "print(early_stopping_cb.stopped_epoch)"
   ]
  },
  {
   "cell_type": "code",
   "execution_count": 74,
   "id": "1b9e954f",
   "metadata": {},
   "outputs": [
    {
     "data": {
      "image/png": "[encoded data removed]",
      "text/plain": [
       "<Figure size 432x288 with 1 Axes>"
      ]
     },
     "metadata": {
      "needs_background": "light"
     },
     "output_type": "display_data"
    }
   ],
   "source": [
    "plt.plot(history.history['loss'])\n",
    "plt.plot(history.history['val_loss'])\n",
    "plt.xlabel('epoch')\n",
    "plt.ylabel('loss')\n",
    "plt.legend(['train', 'val'])\n",
    "plt.show()"
   ]
  },
  {
   "cell_type": "code",
   "execution_count": 75,
   "id": "9f8874a8",
   "metadata": {},
   "outputs": [
    {
     "name": "stdout",
     "output_type": "stream",
     "text": [
      "375/375 [==============================] - 0s 741us/step - loss: 0.3190 - accuracy: 0.8823\n"
     ]
    },
    {
     "data": {
      "text/plain": [
       "[0.3190012574195862, 0.8823333382606506]"
      ]
     },
     "execution_count": 75,
     "metadata": {},
     "output_type": "execute_result"
    }
   ],
   "source": [
    "model.evaluate(val_scaled, val_target)"
   ]
  }
 ],
 "metadata": {
  "kernelspec": {
   "display_name": "Python 3 (ipykernel)",
   "language": "python",
   "name": "python3"
  },
  "language_info": {
   "codemirror_mode": {
    "name": "ipython",
    "version": 3
   },
   "file_extension": ".py",
   "mimetype": "text/x-python",
   "name": "python",
   "nbconvert_exporter": "python",
   "pygments_lexer": "ipython3",
   "version": "3.8.8"
  }
 },
 "nbformat": 4,
 "nbformat_minor": 5
}
