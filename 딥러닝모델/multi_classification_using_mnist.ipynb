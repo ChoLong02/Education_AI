{
  "nbformat": 4,
  "nbformat_minor": 0,
  "metadata": {
    "colab": {
      "provenance": [],
      "collapsed_sections": [],
      "authorship_tag": "ABX9TyNMy/fmavdSJqtiyBMRXK5a",
      "include_colab_link": true
    },
    "kernelspec": {
      "name": "python3",
      "display_name": "Python 3"
    },
    "language_info": {
      "name": "python"
    }
  },
  "cells": [
    {
      "cell_type": "markdown",
      "metadata": {
        "id": "view-in-github",
        "colab_type": "text"
      },
      "source": [
        "<a href=\"https://colab.research.google.com/github/ChoLong02/Education_Python_Deeplearning/blob/master/%EB%94%A5%EB%9F%AC%EB%8B%9D%EB%AA%A8%EB%8D%B8/multi_classification_using_mnist.ipynb\" target=\"_parent\"><img src=\"https://colab.research.google.com/assets/colab-badge.svg\" alt=\"Open In Colab\"/></a>"
      ]
    },
    {
      "cell_type": "markdown",
      "source": [
        "### 1.모듈 불러오기"
      ],
      "metadata": {
        "id": "-_BSkATZy3gR"
      }
    },
    {
      "cell_type": "code",
      "source": [
        "import tensorflow as tf\n",
        "from tensorflow.keras.datasets.mnist import load_data\n",
        "from tensorflow.keras.models import Sequential, Model\n",
        "from tensorflow.keras import models\n",
        "from tensorflow.keras.layers import Dense, Input, Flatten, concatenate\n",
        "from tensorflow.keras.utils import to_categorical\n",
        "from sklearn.model_selection import train_test_split\n",
        "import numpy as np\n",
        "import matplotlib.pylab as plt\n",
        "plt.style.use('seaborn-white')"
      ],
      "metadata": {
        "id": "nngt_jMKyFlP"
      },
      "execution_count": null,
      "outputs": []
    },
    {
      "cell_type": "markdown",
      "source": [
        "### 2.데이터셋 로드"
      ],
      "metadata": {
        "id": "oyI86j4Wy8Jt"
      }
    },
    {
      "cell_type": "code",
      "source": [
        "# MNIST 데이터셋 로드\n",
        "# Train Data 중 30%를 Validation Data로 사용\n",
        "tf.random.set_seed(111)\n",
        "(x_train_full, y_train_full), (x_test, y_test) = load_data(path='mnist.npz')\n",
        "x_train, x_val, y_train, y_val = train_test_split(x_train_full, y_train_full,\n",
        "                                                  test_size = 0.3,\n",
        "                                                  random_state = 111)"
      ],
      "metadata": {
        "id": "Bvg-tS-_ybEH"
      },
      "execution_count": null,
      "outputs": []
    },
    {
      "cell_type": "markdown",
      "source": [
        "### 3.데이터 확인"
      ],
      "metadata": {
        "id": "fiac8P6WzBZt"
      }
    },
    {
      "cell_type": "code",
      "source": [
        "num_x_train = (x_train.shape[0])\n",
        "num_x_val = (x_val.shape[0])\n",
        "num_x_test = (x_test.shape[0])\n",
        "\n",
        "print(f\"Total Data: {x_train_full.shape}, Total Label: {y_train_full.shape}\")\n",
        "print(f\"Train Data: {x_train.shape}, Train Label: {y_train.shape}\")\n",
        "print(f\"Validation Data: {x_val.shape}, Validation Label: {y_val.shape}\")\n",
        "print(f\"Test Data: {x_test.shape}, Test Label: {y_test.shape}\")"
      ],
      "metadata": {
        "colab": {
          "base_uri": "https://localhost:8080/"
        },
        "id": "ErBuWpuiyxtS",
        "outputId": "e805ed5c-8963-4bb3-c17e-d0f9f353c3d2"
      },
      "execution_count": null,
      "outputs": [
        {
          "output_type": "stream",
          "name": "stdout",
          "text": [
            "Total Data: (60000, 28, 28), Total Label: (60000,)\n",
            "Train Data: (42000, 28, 28), Train Label: (42000,)\n",
            "Validation Data: (18000, 28, 28), Validation Label: (18000,)\n",
            "Test Data: (10000, 28, 28), Test Label: (10000,)\n"
          ]
        }
      ]
    },
    {
      "cell_type": "code",
      "source": [
        "num_sample = 5\n",
        "random_idxs = np.random.randint(6000, size=num_sample)\n",
        "\n",
        "plt.figure(figsize=(14, 8))\n",
        "for i, idx in enumerate(random_idxs):\n",
        "  img = x_train_full[idx, :]\n",
        "  label = y_train_full[idx]\n",
        "\n",
        "  plt.subplot(1, len(random_idxs), i+1)\n",
        "  plt.imshow(img)\n",
        "  plt.title(f\"Index: {idx}, Label: {label}\")\n",
        "\n",
        "plt.grid()\n",
        "plt.show()"
      ],
      "metadata": {
        "colab": {
          "base_uri": "https://localhost:8080/",
          "height": 194
        },
        "id": "NzB3pAvnyxwF",
        "outputId": "b0312daf-f729-4b8e-821e-0a07a51548db"
      },
      "execution_count": null,
      "outputs": [
        {
          "output_type": "display_data",
          "data": {
            "text/plain": [
              "<Figure size 1008x576 with 5 Axes>"
            ],
            "image/png": "[encoded data removed]"
          },
          "metadata": {}
        }
      ]
    },
    {
      "cell_type": "markdown",
      "source": [
        "### 4.데이터 전처리"
      ],
      "metadata": {
        "id": "GUisezLw0Smf"
      }
    },
    {
      "cell_type": "code",
      "source": [
        "# 정규화(Normalization)\n",
        "x_train = x_train / 255.\n",
        "x_val = x_val / 255.\n",
        "x_test = x_test / 255.\n",
        "\n",
        "# Label → 원핫인코딩(One-hot encoding)\n",
        "y_train = to_categorical(y_train)\n",
        "y_val = to_categorical(y_val)\n",
        "y_test = to_categorical(y_test)\n",
        "\n",
        "print(f\"Total Data: {x_train_full.shape}, Total Label: {y_train_full.shape}\")\n",
        "print(f\"Train Data: {x_train.shape}, Train Label: {y_train.shape}\")\n",
        "print(f\"Validation Data: {x_val.shape}, Validation Label: {y_val.shape}\")\n",
        "print(f\"Test Data: {x_test.shape}, Test Label: {y_test.shape}\")"
      ],
      "metadata": {
        "colab": {
          "base_uri": "https://localhost:8080/"
        },
        "id": "d5-HMlcgyxyj",
        "outputId": "6b9a8b05-0070-47d9-ed5d-947716956b8b"
      },
      "execution_count": null,
      "outputs": [
        {
          "output_type": "stream",
          "name": "stdout",
          "text": [
            "Total Data: (60000, 28, 28), Total Label: (60000,)\n",
            "Train Data: (42000, 28, 28), Train Label: (42000, 10)\n",
            "Validation Data: (18000, 28, 28), Validation Label: (18000, 10)\n",
            "Test Data: (10000, 28, 28), Test Label: (10000, 10)\n"
          ]
        }
      ]
    },
    {
      "cell_type": "markdown",
      "source": [
        "### 5.모델 생성"
      ],
      "metadata": {
        "id": "aX7DCdRj0ybM"
      }
    },
    {
      "cell_type": "code",
      "source": [
        "# Sequential Model 생성\n",
        "model = Sequential([Input(shape=(28, 28), name='input'),\n",
        "                    Flatten(input_shape=[28, 28], name='flatten'),\n",
        "                    Dense(100, activation='relu', name='dense1'),\n",
        "                    Dense(64, activation='relu', name='dense2'),\n",
        "                    Dense(32, activation='relu', name='dense3'),\n",
        "                    Dense(10, activation='softmax', name='output')])\n",
        "model.summary()"
      ],
      "metadata": {
        "colab": {
          "base_uri": "https://localhost:8080/"
        },
        "id": "lBh6q0sL00zv",
        "outputId": "42246091-09d4-46bd-ce28-5d05aea07698"
      },
      "execution_count": null,
      "outputs": [
        {
          "output_type": "stream",
          "name": "stdout",
          "text": [
            "Model: \"sequential_4\"\n",
            "_________________________________________________________________\n",
            " Layer (type)                Output Shape              Param #   \n",
            "=================================================================\n",
            " flatten (Flatten)           (None, 784)               0         \n",
            "                                                                 \n",
            " dense1 (Dense)              (None, 100)               78500     \n",
            "                                                                 \n",
            " dense2 (Dense)              (None, 64)                6464      \n",
            "                                                                 \n",
            " dense3 (Dense)              (None, 32)                2080      \n",
            "                                                                 \n",
            " output (Dense)              (None, 10)                330       \n",
            "                                                                 \n",
            "=================================================================\n",
            "Total params: 87,374\n",
            "Trainable params: 87,374\n",
            "Non-trainable params: 0\n",
            "_________________________________________________________________\n"
          ]
        }
      ]
    },
    {
      "cell_type": "code",
      "source": [
        "# Functional Model 생성\n",
        "inputs = Input(shape=(28,28))\n",
        "flatten = Flatten(input_shape=[28, 28])(inputs)\n",
        "hidden1 = Dense(100, activation='relu')(flatten)\n",
        "hidden2 = Dense(64, activation='relu')(hidden1)\n",
        "hidden3 = Dense(32, activation='relu')(hidden2)\n",
        "outputs = Dense(10, activation='softmax')(hidden3)\n",
        "model = Model(inputs, outputs)\n",
        "\n",
        "model.summary()"
      ],
      "metadata": {
        "colab": {
          "base_uri": "https://localhost:8080/"
        },
        "id": "kpaQnHR2-kcU",
        "outputId": "5f958dbd-5555-4caa-bf75-962b239f05be"
      },
      "execution_count": null,
      "outputs": [
        {
          "output_type": "stream",
          "name": "stdout",
          "text": [
            "Model: \"model_2\"\n",
            "_________________________________________________________________\n",
            " Layer (type)                Output Shape              Param #   \n",
            "=================================================================\n",
            " input_5 (InputLayer)        [(None, 28, 28)]          0         \n",
            "                                                                 \n",
            " flatten_4 (Flatten)         (None, 784)               0         \n",
            "                                                                 \n",
            " dense_16 (Dense)            (None, 100)               78500     \n",
            "                                                                 \n",
            " dense_17 (Dense)            (None, 64)                6464      \n",
            "                                                                 \n",
            " dense_18 (Dense)            (None, 32)                2080      \n",
            "                                                                 \n",
            " dense_19 (Dense)            (None, 10)                330       \n",
            "                                                                 \n",
            "=================================================================\n",
            "Total params: 87,374\n",
            "Trainable params: 87,374\n",
            "Non-trainable params: 0\n",
            "_________________________________________________________________\n"
          ]
        }
      ]
    },
    {
      "cell_type": "code",
      "source": [],
      "metadata": {
        "id": "DcNTlGdMIfnz"
      },
      "execution_count": null,
      "outputs": []
    },
    {
      "cell_type": "markdown",
      "source": [
        "### 6.모델 컴파일(Compile)"
      ],
      "metadata": {
        "id": "MXhHFRpH1tHF"
      }
    },
    {
      "cell_type": "code",
      "source": [
        "model.compile(loss='categorical_crossentropy',\n",
        "              optimizer='sgd',\n",
        "              metrics=['accuracy'])"
      ],
      "metadata": {
        "id": "ywAEIKsK01Dy"
      },
      "execution_count": null,
      "outputs": []
    },
    {
      "cell_type": "markdown",
      "source": [
        "### 7.모델 학습(Fit)"
      ],
      "metadata": {
        "id": "WXZ9fMrM13ky"
      }
    },
    {
      "cell_type": "code",
      "source": [
        "# 모델 시각화를 위해 history 변수에 담음\n",
        "history = model.fit(x_train, y_train,\n",
        "                    epochs=50,\n",
        "                    batch_size=128,\n",
        "                    validation_data=(x_val, y_val))"
      ],
      "metadata": {
        "colab": {
          "base_uri": "https://localhost:8080/"
        },
        "id": "d3Ufid9m13qL",
        "outputId": "6f10acdf-5277-4336-e1e8-1ea301287a20"
      },
      "execution_count": null,
      "outputs": [
        {
          "output_type": "stream",
          "name": "stdout",
          "text": [
            "Epoch 1/50\n",
            "329/329 [==============================] - 3s 8ms/step - loss: 1.6822 - accuracy: 0.5096 - val_loss: 0.9621 - val_accuracy: 0.7749\n",
            "Epoch 2/50\n",
            "329/329 [==============================] - 2s 7ms/step - loss: 0.6800 - accuracy: 0.8292 - val_loss: 0.5311 - val_accuracy: 0.8518\n",
            "Epoch 3/50\n",
            "329/329 [==============================] - 2s 7ms/step - loss: 0.4660 - accuracy: 0.8713 - val_loss: 0.4191 - val_accuracy: 0.8792\n",
            "Epoch 4/50\n",
            "329/329 [==============================] - 2s 6ms/step - loss: 0.3920 - accuracy: 0.8899 - val_loss: 0.3733 - val_accuracy: 0.8910\n",
            "Epoch 5/50\n",
            "329/329 [==============================] - 2s 7ms/step - loss: 0.3499 - accuracy: 0.9004 - val_loss: 0.3319 - val_accuracy: 0.9045\n",
            "Epoch 6/50\n",
            "329/329 [==============================] - 2s 7ms/step - loss: 0.3205 - accuracy: 0.9090 - val_loss: 0.3188 - val_accuracy: 0.9064\n",
            "Epoch 7/50\n",
            "329/329 [==============================] - 2s 7ms/step - loss: 0.2977 - accuracy: 0.9150 - val_loss: 0.3171 - val_accuracy: 0.9061\n",
            "Epoch 8/50\n",
            "329/329 [==============================] - 2s 8ms/step - loss: 0.2790 - accuracy: 0.9194 - val_loss: 0.2721 - val_accuracy: 0.9225\n",
            "Epoch 9/50\n",
            "329/329 [==============================] - 3s 9ms/step - loss: 0.2631 - accuracy: 0.9249 - val_loss: 0.2681 - val_accuracy: 0.9222\n",
            "Epoch 10/50\n",
            "329/329 [==============================] - 2s 7ms/step - loss: 0.2495 - accuracy: 0.9289 - val_loss: 0.2511 - val_accuracy: 0.9281\n",
            "Epoch 11/50\n",
            "329/329 [==============================] - 3s 8ms/step - loss: 0.2374 - accuracy: 0.9322 - val_loss: 0.2383 - val_accuracy: 0.9322\n",
            "Epoch 12/50\n",
            "329/329 [==============================] - 4s 12ms/step - loss: 0.2269 - accuracy: 0.9354 - val_loss: 0.2500 - val_accuracy: 0.9255\n",
            "Epoch 13/50\n",
            "329/329 [==============================] - 4s 13ms/step - loss: 0.2171 - accuracy: 0.9376 - val_loss: 0.2212 - val_accuracy: 0.9372\n",
            "Epoch 14/50\n",
            "329/329 [==============================] - 3s 8ms/step - loss: 0.2082 - accuracy: 0.9417 - val_loss: 0.2157 - val_accuracy: 0.9378\n",
            "Epoch 15/50\n",
            "329/329 [==============================] - 3s 8ms/step - loss: 0.1996 - accuracy: 0.9430 - val_loss: 0.2147 - val_accuracy: 0.9373\n",
            "Epoch 16/50\n",
            "329/329 [==============================] - 3s 9ms/step - loss: 0.1922 - accuracy: 0.9458 - val_loss: 0.2097 - val_accuracy: 0.9396\n",
            "Epoch 17/50\n",
            "329/329 [==============================] - 3s 10ms/step - loss: 0.1848 - accuracy: 0.9470 - val_loss: 0.1978 - val_accuracy: 0.9425\n",
            "Epoch 18/50\n",
            "329/329 [==============================] - 3s 8ms/step - loss: 0.1778 - accuracy: 0.9494 - val_loss: 0.2052 - val_accuracy: 0.9399\n",
            "Epoch 19/50\n",
            "329/329 [==============================] - 4s 11ms/step - loss: 0.1721 - accuracy: 0.9515 - val_loss: 0.1868 - val_accuracy: 0.9454\n",
            "Epoch 20/50\n",
            "329/329 [==============================] - 2s 7ms/step - loss: 0.1660 - accuracy: 0.9526 - val_loss: 0.2288 - val_accuracy: 0.9313\n",
            "Epoch 21/50\n",
            "329/329 [==============================] - 3s 9ms/step - loss: 0.1610 - accuracy: 0.9551 - val_loss: 0.1757 - val_accuracy: 0.9478\n",
            "Epoch 22/50\n",
            "329/329 [==============================] - 3s 10ms/step - loss: 0.1553 - accuracy: 0.9561 - val_loss: 0.1823 - val_accuracy: 0.9461\n",
            "Epoch 23/50\n",
            "329/329 [==============================] - 3s 9ms/step - loss: 0.1506 - accuracy: 0.9569 - val_loss: 0.1662 - val_accuracy: 0.9516\n",
            "Epoch 24/50\n",
            "329/329 [==============================] - 3s 8ms/step - loss: 0.1456 - accuracy: 0.9587 - val_loss: 0.1683 - val_accuracy: 0.9495\n",
            "Epoch 25/50\n",
            "329/329 [==============================] - 3s 9ms/step - loss: 0.1414 - accuracy: 0.9602 - val_loss: 0.1681 - val_accuracy: 0.9503\n",
            "Epoch 26/50\n",
            "329/329 [==============================] - 3s 10ms/step - loss: 0.1370 - accuracy: 0.9613 - val_loss: 0.1573 - val_accuracy: 0.9536\n",
            "Epoch 27/50\n",
            "329/329 [==============================] - 3s 10ms/step - loss: 0.1328 - accuracy: 0.9625 - val_loss: 0.1525 - val_accuracy: 0.9559\n",
            "Epoch 28/50\n",
            "329/329 [==============================] - 3s 11ms/step - loss: 0.1293 - accuracy: 0.9635 - val_loss: 0.1531 - val_accuracy: 0.9548\n",
            "Epoch 29/50\n",
            "329/329 [==============================] - 3s 10ms/step - loss: 0.1256 - accuracy: 0.9644 - val_loss: 0.1474 - val_accuracy: 0.9564\n",
            "Epoch 30/50\n",
            "329/329 [==============================] - 3s 8ms/step - loss: 0.1223 - accuracy: 0.9655 - val_loss: 0.1455 - val_accuracy: 0.9564\n",
            "Epoch 31/50\n",
            "329/329 [==============================] - 4s 13ms/step - loss: 0.1188 - accuracy: 0.9665 - val_loss: 0.1431 - val_accuracy: 0.9575\n",
            "Epoch 32/50\n",
            "329/329 [==============================] - 4s 13ms/step - loss: 0.1159 - accuracy: 0.9675 - val_loss: 0.1435 - val_accuracy: 0.9564\n",
            "Epoch 33/50\n",
            "329/329 [==============================] - 3s 10ms/step - loss: 0.1127 - accuracy: 0.9682 - val_loss: 0.1402 - val_accuracy: 0.9582\n",
            "Epoch 34/50\n",
            "329/329 [==============================] - 4s 12ms/step - loss: 0.1096 - accuracy: 0.9688 - val_loss: 0.1416 - val_accuracy: 0.9567\n",
            "Epoch 35/50\n",
            "329/329 [==============================] - 3s 10ms/step - loss: 0.1068 - accuracy: 0.9696 - val_loss: 0.1378 - val_accuracy: 0.9581\n",
            "Epoch 36/50\n",
            "329/329 [==============================] - 2s 7ms/step - loss: 0.1042 - accuracy: 0.9703 - val_loss: 0.1363 - val_accuracy: 0.9580\n",
            "Epoch 37/50\n",
            "329/329 [==============================] - 2s 7ms/step - loss: 0.1015 - accuracy: 0.9711 - val_loss: 0.1309 - val_accuracy: 0.9598\n",
            "Epoch 38/50\n",
            "329/329 [==============================] - 3s 8ms/step - loss: 0.0993 - accuracy: 0.9719 - val_loss: 0.1279 - val_accuracy: 0.9617\n",
            "Epoch 39/50\n",
            "329/329 [==============================] - 3s 8ms/step - loss: 0.0968 - accuracy: 0.9724 - val_loss: 0.1315 - val_accuracy: 0.9596\n",
            "Epoch 40/50\n",
            "329/329 [==============================] - 4s 13ms/step - loss: 0.0947 - accuracy: 0.9727 - val_loss: 0.1293 - val_accuracy: 0.9612\n",
            "Epoch 41/50\n",
            "329/329 [==============================] - 3s 8ms/step - loss: 0.0926 - accuracy: 0.9733 - val_loss: 0.1246 - val_accuracy: 0.9623\n",
            "Epoch 42/50\n",
            "329/329 [==============================] - 3s 8ms/step - loss: 0.0902 - accuracy: 0.9743 - val_loss: 0.1433 - val_accuracy: 0.9558\n",
            "Epoch 43/50\n",
            "329/329 [==============================] - 3s 9ms/step - loss: 0.0879 - accuracy: 0.9748 - val_loss: 0.1219 - val_accuracy: 0.9627\n",
            "Epoch 44/50\n",
            "329/329 [==============================] - 3s 9ms/step - loss: 0.0859 - accuracy: 0.9755 - val_loss: 0.1201 - val_accuracy: 0.9637\n",
            "Epoch 45/50\n",
            "329/329 [==============================] - 4s 11ms/step - loss: 0.0841 - accuracy: 0.9758 - val_loss: 0.1178 - val_accuracy: 0.9639\n",
            "Epoch 46/50\n",
            "329/329 [==============================] - 5s 14ms/step - loss: 0.0819 - accuracy: 0.9769 - val_loss: 0.1189 - val_accuracy: 0.9641\n",
            "Epoch 47/50\n",
            "329/329 [==============================] - 5s 14ms/step - loss: 0.0804 - accuracy: 0.9772 - val_loss: 0.1200 - val_accuracy: 0.9633\n",
            "Epoch 48/50\n",
            "329/329 [==============================] - 5s 15ms/step - loss: 0.0784 - accuracy: 0.9771 - val_loss: 0.1169 - val_accuracy: 0.9641\n",
            "Epoch 49/50\n",
            "329/329 [==============================] - 4s 13ms/step - loss: 0.0767 - accuracy: 0.9781 - val_loss: 0.1160 - val_accuracy: 0.9646\n",
            "Epoch 50/50\n",
            "329/329 [==============================] - 4s 11ms/step - loss: 0.0749 - accuracy: 0.9785 - val_loss: 0.1202 - val_accuracy: 0.9635\n"
          ]
        }
      ]
    },
    {
      "cell_type": "markdown",
      "source": [
        "### 8.학습 결과 시각화"
      ],
      "metadata": {
        "id": "9N2WRMAQ2dC0"
      }
    },
    {
      "cell_type": "code",
      "source": [
        "history.history.keys()  # dict type\n",
        "\n",
        "history_dict = history.history\n",
        "loss = history_dict['loss']\n",
        "val_loss = history_dict['val_loss']\n",
        "\n",
        "epochs = range(1, len(loss)+1)\n",
        "fig = plt.figure(figsize=(12, 6))\n",
        "\n",
        "ax1 = fig.add_subplot(1, 2, 1)\n",
        "ax1.plot(epochs, loss, color='blue', label='train_loss')\n",
        "ax1.plot(epochs, val_loss, color='red', label='val_loss')\n",
        "ax1.set_title('Train and Validation Loss')\n",
        "ax1.set_xlabel('Epochs')\n",
        "ax1.set_ylabel('Loss')\n",
        "ax1.grid()\n",
        "ax1.legend()\n",
        "\n",
        "accuracy = history_dict['accuracy']\n",
        "val_accuracy = history_dict['val_accuracy']\n",
        "\n",
        "ax2 = fig.add_subplot(1, 2, 2)\n",
        "ax2.plot(epochs, accuracy, color='blue', label='train_accuracy')\n",
        "ax2.plot(epochs, val_accuracy, color='red', label='val_accuracy')\n",
        "ax2.set_title('Train and Validation Accuracy')\n",
        "ax2.set_xlabel('Epochs')\n",
        "ax2.set_ylabel('Accuracy')\n",
        "ax2.grid()\n",
        "ax2.legend()"
      ],
      "metadata": {
        "colab": {
          "base_uri": "https://localhost:8080/",
          "height": 419
        },
        "id": "5twOzuJ93bs7",
        "outputId": "5f107762-1c03-489d-8244-dc51ba8891dc"
      },
      "execution_count": null,
      "outputs": [
        {
          "output_type": "execute_result",
          "data": {
            "text/plain": [
              "<matplotlib.legend.Legend at 0x7f28a05ddb10>"
            ]
          },
          "metadata": {},
          "execution_count": 38
        },
        {
          "output_type": "display_data",
          "data": {
            "text/plain": [
              "<Figure size 864x432 with 2 Axes>"
            ],
            "image/png": "[encoded data removed]"
          },
          "metadata": {}
        }
      ]
    },
    {
      "cell_type": "markdown",
      "source": [
        "### 9.모델 평가(Evaluation)"
      ],
      "metadata": {
        "id": "T5f41PkZ4XuI"
      }
    },
    {
      "cell_type": "code",
      "source": [
        "# Loss, Accuracy\n",
        "model.evaluate(x_test, y_test)"
      ],
      "metadata": {
        "colab": {
          "base_uri": "https://localhost:8080/"
        },
        "id": "6kbXvEbg4X4y",
        "outputId": "3c609f21-8b5d-4e6e-a2cf-b918623f999f"
      },
      "execution_count": null,
      "outputs": [
        {
          "output_type": "stream",
          "name": "stdout",
          "text": [
            "313/313 [==============================] - 2s 5ms/step - loss: 0.1218 - accuracy: 0.9643\n"
          ]
        },
        {
          "output_type": "execute_result",
          "data": {
            "text/plain": [
              "[0.12175687402486801, 0.9642999768257141]"
            ]
          },
          "metadata": {},
          "execution_count": 39
        }
      ]
    },
    {
      "cell_type": "markdown",
      "source": [
        "### 10.학습된 모델 활용 실제 값 예측"
      ],
      "metadata": {
        "id": "4qtc7mOs4ugv"
      }
    },
    {
      "cell_type": "code",
      "source": [
        "pred_ys = model.predict(x_test)\n",
        "print(pred_ys.shape)\n",
        "\n",
        "np.set_printoptions(precision=7)\n",
        "print(pred_ys[0])\n",
        "\n",
        "arg_pred_y = np.argmax(pred_ys, axis=1)\n",
        "\n",
        "plt.imshow(x_test[0])\n",
        "plt.title(f\"predicted label: {arg_pred_y[0]}\")\n",
        "plt.show()"
      ],
      "metadata": {
        "colab": {
          "base_uri": "https://localhost:8080/",
          "height": 352
        },
        "id": "TH04FFmY4xkV",
        "outputId": "fffbde60-d5b6-4165-a7d2-3a7da4de36e4"
      },
      "execution_count": null,
      "outputs": [
        {
          "output_type": "stream",
          "name": "stdout",
          "text": [
            "313/313 [==============================] - 1s 3ms/step\n",
            "(10000, 10)\n",
            "[7.4642202e-08 5.8373395e-08 1.2875257e-06 4.2221440e-05 2.3137667e-09\n",
            " 3.3682610e-07 2.6645948e-11 9.9995500e-01 1.0640672e-07 9.5523160e-07]\n"
          ]
        },
        {
          "output_type": "display_data",
          "data": {
            "text/plain": [
              "<Figure size 432x288 with 1 Axes>"
            ],
            "image/png": "[encoded data removed]"
          },
          "metadata": {}
        }
      ]
    },
    {
      "cell_type": "markdown",
      "source": [
        "### 11. 모델 평가-2"
      ],
      "metadata": {
        "id": "icTNpeTh5dEU"
      }
    },
    {
      "cell_type": "code",
      "source": [
        "# Confusion Matrix\n",
        "from sklearn.metrics import classification_report, confusion_matrix\n",
        "import seaborn as sns\n",
        "sns.set(style='white')\n",
        "\n",
        "plt.figure(figsize=(8,8))\n",
        "cm = confusion_matrix(np.argmax(y_test, axis=-1), np.argmax(pred_ys, axis=-1))\n",
        "sns.heatmap(cm, annot=True, fmt='d', cmap='Blues')\n",
        "plt.xlabel('Predicted Label')\n",
        "plt.ylabel('True Label')\n",
        "plt.show()"
      ],
      "metadata": {
        "colab": {
          "base_uri": "https://localhost:8080/",
          "height": 502
        },
        "id": "ZpZmXXJV5dKX",
        "outputId": "7172bf42-b491-49bd-98f2-fa3964f4d142"
      },
      "execution_count": null,
      "outputs": [
        {
          "output_type": "display_data",
          "data": {
            "text/plain": [
              "<Figure size 576x576 with 2 Axes>"
            ],
            "image/png": "[encoded data removed]"
          },
          "metadata": {}
        }
      ]
    },
    {
      "cell_type": "markdown",
      "source": [
        "### 12.모델 평가-3"
      ],
      "metadata": {
        "id": "GXD0EXkF6Tmk"
      }
    },
    {
      "cell_type": "code",
      "source": [
        "print(classification_report(np.argmax(y_test, axis=-1), np.argmax(pred_ys, axis=-1)))"
      ],
      "metadata": {
        "colab": {
          "base_uri": "https://localhost:8080/"
        },
        "id": "XFJ8cNCE6V_m",
        "outputId": "8f90a686-94f2-4b81-b608-229eaa2f7ad8"
      },
      "execution_count": null,
      "outputs": [
        {
          "output_type": "stream",
          "name": "stdout",
          "text": [
            "              precision    recall  f1-score   support\n",
            "\n",
            "           0       0.97      0.99      0.98       980\n",
            "           1       0.99      0.99      0.99      1135\n",
            "           2       0.98      0.95      0.96      1032\n",
            "           3       0.93      0.98      0.95      1010\n",
            "           4       0.96      0.97      0.97       982\n",
            "           5       0.99      0.92      0.95       892\n",
            "           6       0.96      0.97      0.97       958\n",
            "           7       0.95      0.98      0.97      1028\n",
            "           8       0.96      0.94      0.95       974\n",
            "           9       0.98      0.94      0.96      1009\n",
            "\n",
            "    accuracy                           0.96     10000\n",
            "   macro avg       0.96      0.96      0.96     10000\n",
            "weighted avg       0.96      0.96      0.96     10000\n",
            "\n"
          ]
        }
      ]
    },
    {
      "cell_type": "code",
      "source": [
        "# Clinical ==> FeedForward Network\n",
        "number_of_features = len(df_train.columns)\n",
        "ff_input = Input(shape=(number_of_features,))\n",
        "x = Dense(26, activation='relu')(ff_input)\n",
        "x = Dense(13, activation='relu')(x)\n",
        "x = Dense(7, activation='relu')(x)\n",
        "x = Dense(4, activation='relu')(x)\n",
        "ff_output = Dense(2, activation='relu')(x)\n",
        "\n",
        "# CT ==> RESNET3D 34 Layer\n",
        "ct_input, ct_output = Resnet3DBuilder.build_resnet_18((50, 128, 128, 1), 3) # 3d(dimention, width, height, channel), output\n",
        "# PET ==> RESNET3D 34 Layer\n",
        "pet_input, pet_output = Resnet3DBuilder.build_resnet_18((50, 128, 128, 1), 3) # 3d(dimention, width, height, channel), output\n",
        "\n",
        "# 서로 다른 model 연결\n",
        "concatenated = concatenate([ff_output, pet_output, ct_output]) # 2 + 32 + 32 = 66\n",
        "c_layer = Dense(32, activation='relu')(concatenated)\n",
        "c_layer = Dense(16, activation='relu')(c_layer)\n",
        "c_layer = Dense(8, activation='relu')(c_layer)\n",
        "ensemble_output = Dense(2, activation='softmax')(c_layer)\n",
        "\n",
        "model = Model([ff_input, pet_input, ct_input], ensemble_output)"
      ],
      "metadata": {
        "id": "B7avHg57IhZZ"
      },
      "execution_count": null,
      "outputs": []
    }
  ]
}